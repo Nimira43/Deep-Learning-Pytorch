{
  "nbformat": 4,
  "nbformat_minor": 0,
  "metadata": {
    "colab": {
      "provenance": [],
      "authorship_tag": "ABX9TyPZ9poPptKRYe8WMGO5IBVO",
      "include_colab_link": true
    },
    "kernelspec": {
      "name": "python3",
      "display_name": "Python 3"
    },
    "language_info": {
      "name": "python"
    }
  },
  "cells": [
    {
      "cell_type": "markdown",
      "metadata": {
        "id": "view-in-github",
        "colab_type": "text"
      },
      "source": [
        "<a href=\"https://colab.research.google.com/github/Nimira43/Deep-Learning-Pytorch/blob/main/funds_02.ipynb\" target=\"_parent\"><img src=\"https://colab.research.google.com/assets/colab-badge.svg\" alt=\"Open In Colab\"/></a>"
      ]
    },
    {
      "cell_type": "markdown",
      "source": [
        "Matrix Multiplication\n",
        "\n",
        "Two ways:\n",
        "\n",
        "* Element wise multiplication\n",
        "* Matrix multiplication - dot product"
      ],
      "metadata": {
        "id": "cnSRsHRBXsgf"
      }
    },
    {
      "cell_type": "code",
      "source": [
        "import torch"
      ],
      "metadata": {
        "id": "R1VHKYAwZOCo"
      },
      "execution_count": 1,
      "outputs": []
    },
    {
      "cell_type": "code",
      "source": [
        "#Element wise\n",
        "\n",
        "set1 = torch.tensor([1, 2, 3])\n",
        "set1"
      ],
      "metadata": {
        "id": "nhpm79J6X8i2",
        "colab": {
          "base_uri": "https://localhost:8080/"
        },
        "outputId": "8830385d-2dfd-4b5d-b413-8e2e68854c03"
      },
      "execution_count": 3,
      "outputs": [
        {
          "output_type": "execute_result",
          "data": {
            "text/plain": [
              "tensor([1, 2, 3])"
            ]
          },
          "metadata": {},
          "execution_count": 3
        }
      ]
    },
    {
      "cell_type": "code",
      "source": [
        "set2 = torch.tensor([3, 4, 8])\n",
        "set2"
      ],
      "metadata": {
        "colab": {
          "base_uri": "https://localhost:8080/"
        },
        "id": "9KxxjhriZhVh",
        "outputId": "70d2816f-3fd5-41f5-ca4b-59c068038f08"
      },
      "execution_count": 4,
      "outputs": [
        {
          "output_type": "execute_result",
          "data": {
            "text/plain": [
              "tensor([3, 4, 8])"
            ]
          },
          "metadata": {},
          "execution_count": 4
        }
      ]
    },
    {
      "cell_type": "code",
      "source": [
        "print(set1, \" * \", set2)\n",
        "print(f\"Equal: {set1 * set2}\")"
      ],
      "metadata": {
        "colab": {
          "base_uri": "https://localhost:8080/"
        },
        "id": "Wi9UnG6dZ1xr",
        "outputId": "16b3d794-ba7c-42c9-c9a3-c113c1cc6791"
      },
      "execution_count": 5,
      "outputs": [
        {
          "output_type": "stream",
          "name": "stdout",
          "text": [
            "tensor([1, 2, 3])  *  tensor([3, 4, 8])\n",
            "Equal: tensor([ 3,  8, 24])\n"
          ]
        }
      ]
    },
    {
      "cell_type": "code",
      "source": [
        "# Matrix multiplication\n",
        "\n",
        "torch.matmul(set1, set2)"
      ],
      "metadata": {
        "colab": {
          "base_uri": "https://localhost:8080/"
        },
        "id": "3miYkFjLafYg",
        "outputId": "c99d2a84-c3ad-4af5-a673-2e2905a84739"
      },
      "execution_count": 6,
      "outputs": [
        {
          "output_type": "execute_result",
          "data": {
            "text/plain": [
              "tensor(35)"
            ]
          },
          "metadata": {},
          "execution_count": 6
        }
      ]
    },
    {
      "cell_type": "markdown",
      "source": [
        "Visualised\n",
        "\n",
        "1 * 3 + 2 * 4 + 3 * 8\n",
        "\n",
        "3 + 8 + 24\n",
        "\n",
        "= 35\n"
      ],
      "metadata": {
        "id": "LBNgVyKtbFrR"
      }
    },
    {
      "cell_type": "markdown",
      "source": [
        "# Example 2"
      ],
      "metadata": {
        "id": "qeJUVy60ct6t"
      }
    },
    {
      "cell_type": "code",
      "source": [
        "print(set1, \" * \", set1) # element wise\n",
        "print(f\"Equal: {set1 * set1}\")"
      ],
      "metadata": {
        "colab": {
          "base_uri": "https://localhost:8080/"
        },
        "outputId": "c99d2c56-9887-4213-9813-b6965cd817c4",
        "id": "n6MAGZt-cc9W"
      },
      "execution_count": 7,
      "outputs": [
        {
          "output_type": "stream",
          "name": "stdout",
          "text": [
            "tensor([1, 2, 3])  *  tensor([1, 2, 3])\n",
            "Equal: tensor([1, 4, 9])\n"
          ]
        }
      ]
    },
    {
      "cell_type": "code",
      "source": [
        "torch.matmul(set1, set1) # matrix multiplication - matmul"
      ],
      "metadata": {
        "colab": {
          "base_uri": "https://localhost:8080/"
        },
        "id": "bfvdhu5wclRu",
        "outputId": "88368e65-5d41-403e-ae6e-75a68b3e0c2d"
      },
      "execution_count": 8,
      "outputs": [
        {
          "output_type": "execute_result",
          "data": {
            "text/plain": [
              "tensor(14)"
            ]
          },
          "metadata": {},
          "execution_count": 8
        }
      ]
    },
    {
      "cell_type": "code",
      "source": [
        "%%time\n",
        "value = 0\n",
        "for i in range(len(set1)):\n",
        "  value += set1[i] * set1[i]\n",
        "value #element wise"
      ],
      "metadata": {
        "colab": {
          "base_uri": "https://localhost:8080/"
        },
        "id": "58Hv1RDFbs_H",
        "outputId": "82ddacdc-8762-4196-bf28-9d23e82eab3a"
      },
      "execution_count": 9,
      "outputs": [
        {
          "output_type": "stream",
          "name": "stdout",
          "text": [
            "CPU times: user 0 ns, sys: 864 µs, total: 864 µs\n",
            "Wall time: 5.13 ms\n"
          ]
        },
        {
          "output_type": "execute_result",
          "data": {
            "text/plain": [
              "tensor(14)"
            ]
          },
          "metadata": {},
          "execution_count": 9
        }
      ]
    },
    {
      "cell_type": "code",
      "source": [
        "%%time\n",
        "torch.matmul(set1, set1) #matmul"
      ],
      "metadata": {
        "colab": {
          "base_uri": "https://localhost:8080/"
        },
        "id": "JipbJ1EfbhjB",
        "outputId": "feff532b-2ee4-4a6d-baa4-7f0e9d9e1ffc"
      },
      "execution_count": 10,
      "outputs": [
        {
          "output_type": "stream",
          "name": "stdout",
          "text": [
            "CPU times: user 75 µs, sys: 0 ns, total: 75 µs\n",
            "Wall time: 78.4 µs\n"
          ]
        },
        {
          "output_type": "execute_result",
          "data": {
            "text/plain": [
              "tensor(14)"
            ]
          },
          "metadata": {},
          "execution_count": 10
        }
      ]
    },
    {
      "cell_type": "markdown",
      "source": [],
      "metadata": {
        "id": "J8MJ8xyRE4Vi"
      }
    },
    {
      "cell_type": "markdown",
      "source": [
        "Dimensions"
      ],
      "metadata": {
        "id": "_XsbFC4_3c4-"
      }
    },
    {
      "cell_type": "markdown",
      "source": [
        "Inner dimension must match\n",
        "\n",
        "(3, 2) @ (2, 3) ok\n",
        "\n",
        "(2, 3) @ (3, 2) ok\n",
        "\n",
        "(3, 2) @ (3, 2) error\n",
        "\n",
        "reulting tensor has the shape of the outer dimension\n",
        "\n",
        "(3, 2) @ (2, 3) results in a (3, 3) tensor\n",
        "\n",
        "(2, 3) @ (3, 2) results in a (2, 2) tensor\n"
      ],
      "metadata": {
        "id": "7zuQjPqS3ox4"
      }
    },
    {
      "cell_type": "code",
      "source": [
        "torch.matmul(torch.rand(3, 2), torch.rand(3, 2))"
      ],
      "metadata": {
        "colab": {
          "base_uri": "https://localhost:8080/",
          "height": 175
        },
        "id": "WmPHF64q4Ld9",
        "outputId": "402e2ee8-7770-44ed-ae0b-bcdadf511e92"
      },
      "execution_count": 13,
      "outputs": [
        {
          "output_type": "error",
          "ename": "RuntimeError",
          "evalue": "ignored",
          "traceback": [
            "\u001b[0;31m---------------------------------------------------------------------------\u001b[0m",
            "\u001b[0;31mRuntimeError\u001b[0m                              Traceback (most recent call last)",
            "\u001b[0;32m<ipython-input-13-9adeb7046560>\u001b[0m in \u001b[0;36m<cell line: 1>\u001b[0;34m()\u001b[0m\n\u001b[0;32m----> 1\u001b[0;31m \u001b[0mtorch\u001b[0m\u001b[0;34m.\u001b[0m\u001b[0mmatmul\u001b[0m\u001b[0;34m(\u001b[0m\u001b[0mtorch\u001b[0m\u001b[0;34m.\u001b[0m\u001b[0mrand\u001b[0m\u001b[0;34m(\u001b[0m\u001b[0;36m3\u001b[0m\u001b[0;34m,\u001b[0m \u001b[0;36m2\u001b[0m\u001b[0;34m)\u001b[0m\u001b[0;34m,\u001b[0m \u001b[0mtorch\u001b[0m\u001b[0;34m.\u001b[0m\u001b[0mrand\u001b[0m\u001b[0;34m(\u001b[0m\u001b[0;36m3\u001b[0m\u001b[0;34m,\u001b[0m \u001b[0;36m2\u001b[0m\u001b[0;34m)\u001b[0m\u001b[0;34m)\u001b[0m\u001b[0;34m\u001b[0m\u001b[0;34m\u001b[0m\u001b[0m\n\u001b[0m",
            "\u001b[0;31mRuntimeError\u001b[0m: mat1 and mat2 shapes cannot be multiplied (3x2 and 3x2)"
          ]
        }
      ]
    },
    {
      "cell_type": "code",
      "source": [
        "torch.matmul(torch.rand(3, 2), torch.rand(2, 3))"
      ],
      "metadata": {
        "colab": {
          "base_uri": "https://localhost:8080/"
        },
        "id": "oF8VMW934q4e",
        "outputId": "462cddbe-e661-4895-e29a-a7fa4a755372"
      },
      "execution_count": 14,
      "outputs": [
        {
          "output_type": "execute_result",
          "data": {
            "text/plain": [
              "tensor([[0.3206, 0.2857, 0.6435],\n",
              "        [0.6178, 0.4648, 1.0947],\n",
              "        [0.6030, 0.2815, 0.7765]])"
            ]
          },
          "metadata": {},
          "execution_count": 14
        }
      ]
    },
    {
      "cell_type": "code",
      "source": [
        "torch.matmul(torch.rand(2, 3), torch.rand(3, 2))"
      ],
      "metadata": {
        "id": "D2lzyXtT6NBb",
        "outputId": "768808ea-d8a1-4641-99e8-962f668f12c9",
        "colab": {
          "base_uri": "https://localhost:8080/"
        }
      },
      "execution_count": 15,
      "outputs": [
        {
          "output_type": "execute_result",
          "data": {
            "text/plain": [
              "tensor([[0.6354, 0.3647],\n",
              "        [0.8047, 0.5695]])"
            ]
          },
          "metadata": {},
          "execution_count": 15
        }
      ]
    },
    {
      "cell_type": "markdown",
      "source": [
        "matrixmultiplication.xyz\n"
      ],
      "metadata": {
        "id": "0aNwO3le7R7N"
      }
    },
    {
      "cell_type": "code",
      "source": [
        "ten1 = torch.tensor([[4, 8, 2],\n",
        "                     [5, 2, 7],\n",
        "                     [3, 9, 1]])"
      ],
      "metadata": {
        "id": "r-n9ZOYh7fVd"
      },
      "execution_count": 30,
      "outputs": []
    },
    {
      "cell_type": "code",
      "source": [
        "ten2 = torch.tensor([[5, 8, 1],\n",
        "                     [2, 5, 4]])"
      ],
      "metadata": {
        "id": "WwRqJgtAAG9e"
      },
      "execution_count": 31,
      "outputs": []
    },
    {
      "cell_type": "code",
      "source": [
        "ten3 = torch.tensor([[2, 7, 5],\n",
        "                     [4, 1, 9]])"
      ],
      "metadata": {
        "id": "oHUbvGI--Btl"
      },
      "execution_count": 32,
      "outputs": []
    },
    {
      "cell_type": "code",
      "source": [
        "ten4 = torch.tensor([[2, 8],\n",
        "                     [9, 3]])"
      ],
      "metadata": {
        "id": "9sjNwh_6-Vfk"
      },
      "execution_count": 33,
      "outputs": []
    },
    {
      "cell_type": "code",
      "source": [
        "ten5 = torch.tensor([[6, 5],\n",
        "                     [8, 4],\n",
        "                     [7, 5]])"
      ],
      "metadata": {
        "id": "yG8LotLr-k42"
      },
      "execution_count": 34,
      "outputs": []
    },
    {
      "cell_type": "code",
      "source": [
        "ten6 = torch.tensor([[2, 6],\n",
        "                     [7, 8],\n",
        "                     [3, 1]])"
      ],
      "metadata": {
        "id": "uBuWSj5MAIhi"
      },
      "execution_count": 35,
      "outputs": []
    },
    {
      "cell_type": "code",
      "source": [
        "ten1.ndim, ten1.shape"
      ],
      "metadata": {
        "id": "sTEKrlSf_AF6",
        "outputId": "92a42d41-75e4-44ea-8869-0f5fa62486a1",
        "colab": {
          "base_uri": "https://localhost:8080/"
        }
      },
      "execution_count": 36,
      "outputs": [
        {
          "output_type": "execute_result",
          "data": {
            "text/plain": [
              "(2, torch.Size([3, 3]))"
            ]
          },
          "metadata": {},
          "execution_count": 36
        }
      ]
    },
    {
      "cell_type": "code",
      "source": [
        "ten2.ndim, ten2.shape"
      ],
      "metadata": {
        "id": "Z2ONp2JD_K5n",
        "outputId": "e4c64264-dd47-4b52-8b96-c062f225c096",
        "colab": {
          "base_uri": "https://localhost:8080/"
        }
      },
      "execution_count": 37,
      "outputs": [
        {
          "output_type": "execute_result",
          "data": {
            "text/plain": [
              "(2, torch.Size([2, 3]))"
            ]
          },
          "metadata": {},
          "execution_count": 37
        }
      ]
    },
    {
      "cell_type": "code",
      "source": [
        "ten3.ndim, ten3.shape"
      ],
      "metadata": {
        "id": "C7ZEIyKu_R_d",
        "outputId": "ce303ef0-971d-4e16-a23e-afc97b806100",
        "colab": {
          "base_uri": "https://localhost:8080/"
        }
      },
      "execution_count": 38,
      "outputs": [
        {
          "output_type": "execute_result",
          "data": {
            "text/plain": [
              "(2, torch.Size([2, 3]))"
            ]
          },
          "metadata": {},
          "execution_count": 38
        }
      ]
    },
    {
      "cell_type": "code",
      "source": [
        "ten4.ndim, ten4.shape"
      ],
      "metadata": {
        "id": "WSq-KGXr_Xfg",
        "outputId": "71877f67-9728-4982-b0dd-8e28803a0917",
        "colab": {
          "base_uri": "https://localhost:8080/"
        }
      },
      "execution_count": 40,
      "outputs": [
        {
          "output_type": "execute_result",
          "data": {
            "text/plain": [
              "(2, torch.Size([2, 2]))"
            ]
          },
          "metadata": {},
          "execution_count": 40
        }
      ]
    },
    {
      "cell_type": "code",
      "source": [
        "ten5.ndim, ten5.shape"
      ],
      "metadata": {
        "id": "YYlycnX6A9x9",
        "outputId": "0ca4cc2a-2112-4bd4-aa36-d31d357a7149",
        "colab": {
          "base_uri": "https://localhost:8080/"
        }
      },
      "execution_count": 46,
      "outputs": [
        {
          "output_type": "execute_result",
          "data": {
            "text/plain": [
              "(2, torch.Size([3, 2]))"
            ]
          },
          "metadata": {},
          "execution_count": 46
        }
      ]
    },
    {
      "cell_type": "code",
      "source": [
        "ten6.ndim, ten6.shape"
      ],
      "metadata": {
        "id": "EucLoxp-A_ee",
        "outputId": "6dc35a77-fa9b-4669-da6f-260dac982ef2",
        "colab": {
          "base_uri": "https://localhost:8080/"
        }
      },
      "execution_count": 47,
      "outputs": [
        {
          "output_type": "execute_result",
          "data": {
            "text/plain": [
              "(2, torch.Size([3, 2]))"
            ]
          },
          "metadata": {},
          "execution_count": 47
        }
      ]
    },
    {
      "cell_type": "code",
      "source": [
        "torch.mm(ten2, ten6)"
      ],
      "metadata": {
        "id": "tdlID3C_BUYp",
        "outputId": "13b8e96a-2696-4cbd-ed68-71b3e17dd71e",
        "colab": {
          "base_uri": "https://localhost:8080/"
        }
      },
      "execution_count": 48,
      "outputs": [
        {
          "output_type": "execute_result",
          "data": {
            "text/plain": [
              "tensor([[69, 95],\n",
              "        [51, 56]])"
            ]
          },
          "metadata": {},
          "execution_count": 48
        }
      ]
    },
    {
      "cell_type": "code",
      "source": [
        "torch.mm(ten3, ten5)"
      ],
      "metadata": {
        "id": "te3ArCJ7BUSQ",
        "outputId": "dd848b50-0889-4f80-8ae5-1e858a707122",
        "colab": {
          "base_uri": "https://localhost:8080/"
        }
      },
      "execution_count": 49,
      "outputs": [
        {
          "output_type": "execute_result",
          "data": {
            "text/plain": [
              "tensor([[103,  63],\n",
              "        [ 95,  69]])"
            ]
          },
          "metadata": {},
          "execution_count": 49
        }
      ]
    },
    {
      "cell_type": "code",
      "source": [
        "torch.mm(ten3, ten1)"
      ],
      "metadata": {
        "id": "crbbTv6JBUOd",
        "outputId": "611d402c-ec67-4c3c-9db8-ee70a963b0eb",
        "colab": {
          "base_uri": "https://localhost:8080/"
        }
      },
      "execution_count": 50,
      "outputs": [
        {
          "output_type": "execute_result",
          "data": {
            "text/plain": [
              "tensor([[ 58,  75,  58],\n",
              "        [ 48, 115,  24]])"
            ]
          },
          "metadata": {},
          "execution_count": 50
        }
      ]
    },
    {
      "cell_type": "markdown",
      "source": [
        "ten1 = torch.tensor\n",
        "\n",
        "([[4, 8, 2],\n",
        "\n",
        "  [5, 2, 7],\n",
        "\n",
        "  [3, 9, 1]])\n",
        "\n",
        "ten2 = torch.tensor\n",
        "\n",
        "([[5, 8, 1],\n",
        "\n",
        "  [2, 5, 4]])\n",
        "\n",
        "ten3 = torch.tensor\n",
        "\n",
        "([[2, 7, 5],\n",
        "\n",
        "  [4, 1, 9]])\n",
        "\n",
        "ten4 = torch.tensor\n",
        "\n",
        "([[2, 8],\n",
        "\n",
        "  [9, 3]])\n",
        "\n",
        "ten5 = torch.tensor\n",
        "\n",
        "([[6, 5],\n",
        "\n",
        "  [8, 4],\n",
        "\n",
        "  [7, 5]])\n",
        "\n",
        "ten6 = torch.tensor\n",
        "\n",
        "([[2, 6],\n",
        "\n",
        "  [7, 8],\n",
        "\n",
        "  [3, 1]])\n",
        "\n"
      ],
      "metadata": {
        "id": "uHzNLbMCCBjV"
      }
    },
    {
      "cell_type": "markdown",
      "source": [
        "Transpose"
      ],
      "metadata": {
        "id": "UgjXb0rODgTe"
      }
    },
    {
      "cell_type": "code",
      "source": [
        "ten1.T"
      ],
      "metadata": {
        "id": "SudPqZnwBUHX",
        "outputId": "e1caa9d7-477b-4bf8-af84-3c48a22a2877",
        "colab": {
          "base_uri": "https://localhost:8080/"
        }
      },
      "execution_count": 51,
      "outputs": [
        {
          "output_type": "execute_result",
          "data": {
            "text/plain": [
              "tensor([[4, 5, 3],\n",
              "        [8, 2, 9],\n",
              "        [2, 7, 1]])"
            ]
          },
          "metadata": {},
          "execution_count": 51
        }
      ]
    },
    {
      "cell_type": "code",
      "source": [
        "ten2.T\n"
      ],
      "metadata": {
        "id": "PZtp-P3CBUDO",
        "outputId": "0fce984c-23b1-4ee8-a901-4b51181d090b",
        "colab": {
          "base_uri": "https://localhost:8080/"
        }
      },
      "execution_count": 52,
      "outputs": [
        {
          "output_type": "execute_result",
          "data": {
            "text/plain": [
              "tensor([[5, 2],\n",
              "        [8, 5],\n",
              "        [1, 4]])"
            ]
          },
          "metadata": {},
          "execution_count": 52
        }
      ]
    },
    {
      "cell_type": "code",
      "source": [
        "ten2, ten2.shape"
      ],
      "metadata": {
        "id": "mqN9pvckBT_w",
        "outputId": "8cb3d913-61e4-422a-bb81-0ee54b730677",
        "colab": {
          "base_uri": "https://localhost:8080/"
        }
      },
      "execution_count": 58,
      "outputs": [
        {
          "output_type": "execute_result",
          "data": {
            "text/plain": [
              "(tensor([[5, 8, 1],\n",
              "         [2, 5, 4]]),\n",
              " torch.Size([2, 3]))"
            ]
          },
          "metadata": {},
          "execution_count": 58
        }
      ]
    },
    {
      "cell_type": "code",
      "source": [
        "ten3.T, ten3.T.shape"
      ],
      "metadata": {
        "id": "B9Qw52OqBTyS",
        "outputId": "49a2a93d-833b-466e-cef4-a31426332e34",
        "colab": {
          "base_uri": "https://localhost:8080/"
        }
      },
      "execution_count": 56,
      "outputs": [
        {
          "output_type": "execute_result",
          "data": {
            "text/plain": [
              "(tensor([[2, 4],\n",
              "         [7, 1],\n",
              "         [5, 9]]),\n",
              " torch.Size([3, 2]))"
            ]
          },
          "metadata": {},
          "execution_count": 56
        }
      ]
    },
    {
      "cell_type": "code",
      "source": [
        "torch.matmul(ten2, ten3.T)"
      ],
      "metadata": {
        "id": "6N0RyysJBTtc",
        "outputId": "c4a6ebf0-f26c-439b-ca74-b9e9dbb7e054",
        "colab": {
          "base_uri": "https://localhost:8080/"
        }
      },
      "execution_count": 65,
      "outputs": [
        {
          "output_type": "execute_result",
          "data": {
            "text/plain": [
              "tensor([[71, 37],\n",
              "        [59, 49]])"
            ]
          },
          "metadata": {},
          "execution_count": 65
        }
      ]
    },
    {
      "cell_type": "code",
      "source": [
        "setX = torch.tensor([[4, 3, 5],\n",
        "                     [4, 2, 9]])\n",
        "\n",
        "setY = torch.tensor([[2, 3, 5],\n",
        "                     [8, 4, 2]])"
      ],
      "metadata": {
        "id": "4RUHwsGuBTo7"
      },
      "execution_count": 66,
      "outputs": []
    },
    {
      "cell_type": "code",
      "source": [
        "setX.shape, setY.shape"
      ],
      "metadata": {
        "id": "2zkeW9DKNjA8",
        "outputId": "6d72071c-9354-4659-f4d7-de3b6c04d613",
        "colab": {
          "base_uri": "https://localhost:8080/"
        }
      },
      "execution_count": 67,
      "outputs": [
        {
          "output_type": "execute_result",
          "data": {
            "text/plain": [
              "(torch.Size([2, 3]), torch.Size([2, 3]))"
            ]
          },
          "metadata": {},
          "execution_count": 67
        }
      ]
    },
    {
      "cell_type": "code",
      "source": [
        "torch.matmul(setX.T, setY)"
      ],
      "metadata": {
        "id": "SW7SHNb1NwZ5",
        "outputId": "b79783d1-0af2-4cee-eedf-889fcb7666bf",
        "colab": {
          "base_uri": "https://localhost:8080/"
        }
      },
      "execution_count": 68,
      "outputs": [
        {
          "output_type": "execute_result",
          "data": {
            "text/plain": [
              "tensor([[40, 28, 28],\n",
              "        [22, 17, 19],\n",
              "        [82, 51, 43]])"
            ]
          },
          "metadata": {},
          "execution_count": 68
        }
      ]
    }
  ]
}